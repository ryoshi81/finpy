{
 "cells": [
  {
   "cell_type": "markdown",
   "metadata": {},
   "source": [
    "# 係数で年金の積立額計算〜年金終価係数・減債基金係数・年金現価係数・資本回収係数〜"
   ]
  },
  {
   "cell_type": "markdown",
   "metadata": {},
   "source": [
    "年金で将来の積立額を簡易的に計算するための係数があったりします。"
   ]
  },
  {
   "cell_type": "markdown",
   "metadata": {},
   "source": [
    "定期預金のように利息がつく場合に将来いくらになるかや今いくらあればよいか知りたいときに用いる係数\n",
    "- 今10万円貯金して、10年後いくらになるか知りたいとき→[終価係数](#終価係数)\n",
    "- 10年後に10万円貯めるために、今いくら貯金すればよいか知りたいとき→[現価係数](#現価係数)\n",
    "\n",
    "年金のように、毎月少しずつ積み立てて、将来少しずつ取り崩す場合の金額を知りたいときに用いる係数\n",
    "- 毎月1万円ずつ積み立てたら10年後いくらになるか知りたいとき→[年金終価係数](#年金終価係数)\n",
    "- 10年後に10万円貯めるために毎月いくら積み立てればよいか知りたいとき→[減債基金係数](#減債基金係数)\n",
    "- 10年間毎月1万円ずつ取り崩すのに今いくらあればよいか知りたいとき→[年金現価係数](#年金現価係数)\n",
    "- 今10万円あって10年間で取り崩すのに毎月いくら使えるかしりたいとき→[資本回収係数](#資本回収係数)"
   ]
  },
  {
   "cell_type": "markdown",
   "metadata": {},
   "source": [
    "## お約束：免責事項など"
   ]
  },
  {
   "cell_type": "markdown",
   "metadata": {},
   "source": [
    "- 本投稿は年金制度の話ではありません。年金制度の内容は必ず厚生労働省または日本年金機構のHPで確認してください。\n",
    "- 本投稿での計算及び計算した数値は仮定のものであり、その数値に一切責任は負いません。\n",
    "- 本内容は2018年7月29日時点のものです。\n",
    "- 本内容は個人の見解であり、所属組織とは一切関係ありません。\n",
    "- もし誤った記載がありましたら、修正・削除しますので、ご指摘ください。"
   ]
  },
  {
   "cell_type": "markdown",
   "metadata": {},
   "source": [
    "## <a name=\"終価係数\">終価係数</a>"
   ]
  },
  {
   "cell_type": "markdown",
   "metadata": {},
   "source": [
    "10万円を年利回り1%の定期預金に10年間預けたとき、10年後いくらになるか計算してみます。<br>\n",
    "$$100000 \\times (1+0.01)^{10}$$"
   ]
  },
  {
   "cell_type": "code",
   "execution_count": 1,
   "metadata": {},
   "outputs": [
    {
     "name": "stdout",
     "output_type": "stream",
     "text": [
      "110462\n"
     ]
    }
   ],
   "source": [
    "print(int(100000 * (1+0.01)**10))"
   ]
  },
  {
   "cell_type": "markdown",
   "metadata": {},
   "source": [
    "一般に、現在の預金$A$円、年利回り$r$、期間$T$年としたとき、$T$年後の預金額$F$は、\n",
    "$$F=A(1+r)^T$$\n",
    "となります。このとき、\n",
    "$$SPCAF=(1+r)^T$$\n",
    "を終価係数(Single Payment Compound Amount Factor)と呼びます。<br>\n",
    "年利回り1％、10年間の終価係数は、"
   ]
  },
  {
   "cell_type": "code",
   "execution_count": 2,
   "metadata": {},
   "outputs": [
    {
     "name": "stdout",
     "output_type": "stream",
     "text": [
      "1.1046221254112045\n"
     ]
    }
   ],
   "source": [
    "def spcaf(r, T):\n",
    "    return (1+r)**T\n",
    "\n",
    "print(spcaf(0.01, 10))"
   ]
  },
  {
   "cell_type": "markdown",
   "metadata": {},
   "source": [
    "となります。<br>\n",
    "現在の預金額$A$としたときの$T$年後の預金額$F$は、\n",
    "$$F = SPCAF \\times A$$\n",
    "と書くことができます。<br>\n",
    "終価係数を用いると、"
   ]
  },
  {
   "cell_type": "code",
   "execution_count": 3,
   "metadata": {},
   "outputs": [
    {
     "name": "stdout",
     "output_type": "stream",
     "text": [
      "110462\n"
     ]
    }
   ],
   "source": [
    "A = 100000\n",
    "print(int(A * spcaf(0.01, 10)))"
   ]
  },
  {
   "cell_type": "markdown",
   "metadata": {},
   "source": [
    "というように計算することもできます。"
   ]
  },
  {
   "cell_type": "markdown",
   "metadata": {},
   "source": [
    "## <a name=\"現価係数\">現価係数</a>"
   ]
  },
  {
   "cell_type": "markdown",
   "metadata": {},
   "source": [
    "年利回り1%の定期預金で10年後に10万円貯めるために、今いくら預ければよいか計算してみます。<br>\n",
    "$$100000 \\times \\frac{1}{(1+0.01)^{10}}$$"
   ]
  },
  {
   "cell_type": "code",
   "execution_count": 4,
   "metadata": {},
   "outputs": [
    {
     "name": "stdout",
     "output_type": "stream",
     "text": [
      "90528\n"
     ]
    }
   ],
   "source": [
    "print(int(100000*(1/(1+0.01)**10)))"
   ]
  },
  {
   "cell_type": "markdown",
   "metadata": {},
   "source": [
    "一般に、期間$T$年、年利回り$r$、$T$年後の預金$F$としたとき、現在の預金額$A$は、\n",
    "$$A=\\frac{1}{(1+r)^T}F$$\n",
    "となります。このとき、\n",
    "$$SPPWF=\\frac{1}{(1+r)^T}$$\n",
    "を現価係数(Single Payment Present Worth Factor)と呼びます。<br>\n",
    "年利回り1％、10年間の現価係数は、"
   ]
  },
  {
   "cell_type": "code",
   "execution_count": 5,
   "metadata": {},
   "outputs": [
    {
     "name": "stdout",
     "output_type": "stream",
     "text": [
      "0.9052869546929833\n"
     ]
    }
   ],
   "source": [
    "def sppwf(r, T):\n",
    "    return 1/(1+r)**T\n",
    "\n",
    "print(sppwf(0.01, 10))"
   ]
  },
  {
   "cell_type": "markdown",
   "metadata": {},
   "source": [
    "となります。<br>\n",
    "$T$年後の預金額$F$としたときの現在の預金額$A$は、\n",
    "$$A=SPPWF \\times F$$\n",
    "と書くことができます。<br>\n",
    "現価係数を用いると、"
   ]
  },
  {
   "cell_type": "code",
   "execution_count": 6,
   "metadata": {},
   "outputs": [
    {
     "name": "stdout",
     "output_type": "stream",
     "text": [
      "90528\n"
     ]
    }
   ],
   "source": [
    "F = 100000\n",
    "print(int(F * sppwf(0.01, 10)))"
   ]
  },
  {
   "cell_type": "markdown",
   "metadata": {},
   "source": [
    "と計算することもできます。<br>\n",
    "現価係数と終価係数には、\n",
    "$$SPPWF=\\frac{1}{SPCAF}$$\n",
    "という関係があります。<br>\n",
    "現価係数は、債券や資産運用の分野では、ディスカウント・ファクター(割引係数)と呼んだりします。"
   ]
  },
  {
   "cell_type": "markdown",
   "metadata": {},
   "source": [
    "## <a name=\"年金終価係数\">年金終価係数</a>"
   ]
  },
  {
   "cell_type": "markdown",
   "metadata": {},
   "source": [
    "年金のために、毎期1万円ずつ積み立てることを考えます。最初の3年間を表にしてみます。利率は1％で毎期末に1万円積み立てます。"
   ]
  },
  {
   "cell_type": "markdown",
   "metadata": {},
   "source": [
    "|時点|前期末資産|利率|積立前の期末資産|期末積立|積立後の期末資産|\n",
    "|:--|:--|:--|:--|:--|:--|\n",
    "|1|0|0.01|0|10000|10000|\n",
    "|2|10000|0.01|10100|10000|20100|\n",
    "|3|20100|0.01|20301|10000|30301|"
   ]
  },
  {
   "cell_type": "markdown",
   "metadata": {},
   "source": [
    "毎期の積立額$x$、利率$r$とすると、以下のように一般化できます。"
   ]
  },
  {
   "cell_type": "markdown",
   "metadata": {},
   "source": [
    "|時点|前期末資産|利率|積立前の期末資産|期末積立|積立後の期末資産|\n",
    "|:--|:--|:--|:--|:--|:--|\n",
    "|1|$0$|$r$|$0$|$x$|$x$|\n",
    "|2|$x$|$r$|$x(1+r)$|$x$|$x(1+r)+x$|\n",
    "|3|$x(1+r)+x$|$r$|$x(1+r)^2+x(1+r)$|$x$|$x(1+r)^2+x(1+r)+x$|"
   ]
  },
  {
   "cell_type": "markdown",
   "metadata": {},
   "source": [
    "よって、$T$時点での積立後の期末資産の総額$S_T$(元利合計額)は\n",
    "$$S_T=  \\sum_{t=1}^T x(1+r)^{t-1}$$\n",
    "となります。<br>\n",
    "$T$が大きくなると手で計算するのは大変です。一応、以下のようにfor文でも計算もできます。"
   ]
  },
  {
   "cell_type": "code",
   "execution_count": 7,
   "metadata": {},
   "outputs": [
    {
     "name": "stdout",
     "output_type": "stream",
     "text": [
      "104622\n"
     ]
    }
   ],
   "source": [
    "T = 10\n",
    "S_T = 0\n",
    "for t in range(T):\n",
    "    S_T += 10000 * (1+0.01)**t\n",
    "print(int(S_T))"
   ]
  },
  {
   "cell_type": "markdown",
   "metadata": {},
   "source": [
    "総額$S_T$は等比数列の和の形式をしています。$1+r$を掛けたものと引き算をすると、\n",
    "\\begin{eqnarray}\n",
    "S_T &=& x + && x(1+r) + \\cdots + x(1+r)^{T-1} &&\\\\\n",
    "(1+r)S_t &=& && x(1+r) + \\cdots + x(1+r)^{T-1} && + x(1+r)^T\\\\\n",
    "-rS_t &=& x && && - x(1+r)^T\n",
    "\\end{eqnarray}\n",
    "となります。よって、\n",
    "\\begin{eqnarray}\n",
    "S_t &=& \\frac{-x + x(1+r)^T}{r}\\\\\n",
    "&=& \\frac{(1+r)^T-1}{r}x\\\\\n",
    "\\end{eqnarray}\n",
    "となります。このとき、\n",
    "$$USCAF=\\frac{(1+r)^T-1}{r}$$\n",
    "を年金終価係数(Uniform Series Compound Amount Factor)と呼びます。<br>\n",
    "利回り1％、10年間の年金終価係数は"
   ]
  },
  {
   "cell_type": "code",
   "execution_count": 8,
   "metadata": {},
   "outputs": [
    {
     "name": "stdout",
     "output_type": "stream",
     "text": [
      "10.462212541120453\n"
     ]
    }
   ],
   "source": [
    "def uscaf(r, t):\n",
    "    return ((1+r)**t-1)/r\n",
    "\n",
    "print(uscaf(0.01, 10))"
   ]
  },
  {
   "cell_type": "markdown",
   "metadata": {},
   "source": [
    "となります。\n",
    "毎年の積立額$X$としたとき、$T$年後の積立総額$S_T$は\n",
    "$$S_T=USCAF \\times X$$\n",
    "と書くことができます。<br>\n",
    "年金終価係数を用いると、"
   ]
  },
  {
   "cell_type": "code",
   "execution_count": 9,
   "metadata": {},
   "outputs": [
    {
     "name": "stdout",
     "output_type": "stream",
     "text": [
      "104622\n"
     ]
    }
   ],
   "source": [
    "x = 10000\n",
    "S_T = uscaf(0.01, 10) * x\n",
    "print(int(S_T))"
   ]
  },
  {
   "cell_type": "markdown",
   "metadata": {},
   "source": [
    "と計算することもできます。"
   ]
  },
  {
   "cell_type": "markdown",
   "metadata": {},
   "source": [
    "## <a name=\"減債基金係数\">減債基金係数</a>"
   ]
  },
  {
   "cell_type": "markdown",
   "metadata": {},
   "source": [
    "10年後に10万円貯めるために、毎年いくら積み立てればよいか考えます。これはすでに年金終価係数のところで計算しています。\n",
    "$$S_T=\\frac{(1+r)^T-1}{r}x$$\n",
    "より\n",
    "$$x=S_T\\frac{r}{(1+r)^T-1}$$\n",
    "となります。このとき、\n",
    "$$SFF=\\frac{r}{(1+r)^T-1}$$\n",
    "を減債基金係数(Sinking Fund Factor)と呼びます。<br>\n",
    "利回り1％、10年間の減債基金係数は"
   ]
  },
  {
   "cell_type": "code",
   "execution_count": 10,
   "metadata": {},
   "outputs": [
    {
     "name": "stdout",
     "output_type": "stream",
     "text": [
      "0.09558207655117135\n"
     ]
    }
   ],
   "source": [
    "def sff(r, T):\n",
    "    return r/((1+r)**T-1)\n",
    "\n",
    "print(sff(0.01, 10))"
   ]
  },
  {
   "cell_type": "markdown",
   "metadata": {},
   "source": [
    "となります。$T$年後の積立総額$S_T$としたとき、毎年の積立額$X$は\n",
    "$$X=SFF \\times S_T$$\n",
    "と書くことができます。<br>\n",
    "減債基金係数を用いると"
   ]
  },
  {
   "cell_type": "code",
   "execution_count": 11,
   "metadata": {},
   "outputs": [
    {
     "name": "stdout",
     "output_type": "stream",
     "text": [
      "9558\n"
     ]
    }
   ],
   "source": [
    "S_T = 100000\n",
    "x = sff(0.01, 10) * S_T\n",
    "print(int(x))"
   ]
  },
  {
   "cell_type": "markdown",
   "metadata": {},
   "source": [
    "と計算できます。"
   ]
  },
  {
   "cell_type": "markdown",
   "metadata": {},
   "source": [
    "## <a name=\"年金現価係数\">年金現価係数</a>"
   ]
  },
  {
   "cell_type": "markdown",
   "metadata": {},
   "source": [
    "年金として、10年間に毎期1万円ずつ取り崩すことを考えます。最初の3年間を評にしてみます。利率は1％で毎期末に1万円取り崩します。"
   ]
  },
  {
   "cell_type": "markdown",
   "metadata": {},
   "source": [
    "|時点|前期末資産|利率|受給前の期末資産|期末年金|受給後の期末資産|\n",
    "|:--|:--|:--|:--|:--|:--|\n",
    "|1|100000|0.01|101000|10000|91000|\n",
    "|2|91000|0.01|91910|10000|81910|\n",
    "|2|81910|0.01|82729|10000|72729|"
   ]
  },
  {
   "cell_type": "markdown",
   "metadata": {},
   "source": [
    "年金原資$S$、毎期の積立額$x$、利率$r$とすると、以下のように一般化できます。"
   ]
  },
  {
   "cell_type": "markdown",
   "metadata": {},
   "source": [
    "|時点|前期末資産|利率|受給前の期末資産|期末年金|受給後の期末資産|\n",
    "|:--|:--|:--|:--|:--|:--|\n",
    "|1|$S$|$r$|$S(1+r)$|$x$|$S(1+r)-x$|\n",
    "|2|$S(1+r)-x$|$r$|$S(1+r)^2-x(1+r)$|$x$|$S(1+r)^2-x(1+r)-x$|\n",
    "|3|$S(1+r)^2-x(1+r)-x$|$r$|$S(1+r)^3-x(1+r)^2-x(1+r)$|$x$|$S(1+r)^3-x(1+r)^2-x(1+r)-x$|"
   ]
  },
  {
   "cell_type": "markdown",
   "metadata": {},
   "source": [
    "よって、$T$期間に毎期1万円ずつ取り崩すために必要な年金原資$S_0$は\n",
    "$$(S_0-x)(1+r)^T - x(1+r)^{T-1}-\\cdots -x(1+r)-x=0$$\n",
    "を解くことで求めることができます。これを解くと、\n",
    "$$\\Leftrightarrow (S_0-x)(1+r)^T =x(1+r)^{T-1}+\\cdots -x(1+r)-x$$\n",
    "$$\\Leftrightarrow S_0-x =\\frac{1}{1+r}x+\\cdots +\\frac{1}{(1+r)^{T-1}}x+\\frac{1}{(1+r)^T}x$$\n",
    "$$\\Leftrightarrow S_0 =x+\\frac{1}{1+r}x+\\cdots +\\frac{1}{(1+r)^{T-1}}x+\\frac{1}{(1+r)^T}x$$\n",
    "より、\n",
    "$$S_0 = \\sum_{t=1}^T \\frac{1}{(1+r)^t}x$$\n",
    "となります。<br>\n",
    "年金原資$S_0$は等比数列の和の形式をしています。(なお、等比数列の和の計算を用いた年金現価係数の計算は年金終価係数の計算と全く同じです。)$1+r$を掛けたものと引き算をすると、\n",
    "\\begin{eqnarray}\n",
    "S_0 &=& &&\\frac{1}{1+r}x+\\cdots +\\frac{1}{(1+r)^{T-1}}x&&+\\frac{1}{(1+r)^T}x \\\\\n",
    "(1+r)S_0 &=& x+&& \\frac{1}{1+r}x+\\cdots +\\frac{1}{(1+r)^{T-1}}x &&\\\\\n",
    "-rS_0 &=& -x&&  &&+ \\frac{1}{(1+r)^T}x \\\\\n",
    "\\end{eqnarray}\n",
    "となります。よって、\n",
    "\\begin{eqnarray}\n",
    "S_0 &=& \\frac{1}{r}(x- \\frac{1}{(1+r)^T}x)\\\\\n",
    "&=& \\frac{1}{r}(1- \\frac{1}{(1+r)^T})x\\\\\n",
    "&=& (\\frac{(1+r)^T-1}{r(1+r)^T})x\\\\\n",
    "\\end{eqnarray}\n",
    "となります。このとき、\n",
    "$$USPWF=\\frac{(1+r)^T-1}{r(1+r)^T}$$\n",
    "を年金現価係数(Uniform Series Present Worth Factor)と呼びます。<br>\n",
    "利回り1％、10年間の年金現価係数は"
   ]
  },
  {
   "cell_type": "code",
   "execution_count": 12,
   "metadata": {},
   "outputs": [
    {
     "name": "stdout",
     "output_type": "stream",
     "text": [
      "9.471304530701673\n"
     ]
    }
   ],
   "source": [
    "def uspwf(r, T):\n",
    "    return ((1+r)**T-1)/(r*(1+r)**T)\n",
    "\n",
    "print(uspwf(0.01, 10))"
   ]
  },
  {
   "cell_type": "markdown",
   "metadata": {},
   "source": [
    "となります。$T$年間の毎年の取り崩し額$X$としたとき、年金原資$S_0$は\n",
    "$$S_0=USPWF \\times X$$\n",
    "と書くことができます。<br>\n",
    "年金現価係数を用いると、"
   ]
  },
  {
   "cell_type": "code",
   "execution_count": 13,
   "metadata": {},
   "outputs": [
    {
     "name": "stdout",
     "output_type": "stream",
     "text": [
      "94713\n"
     ]
    }
   ],
   "source": [
    "x = 10000\n",
    "S_0 = uspwf(0.01, 10) * x\n",
    "print(int(S_0))"
   ]
  },
  {
   "cell_type": "markdown",
   "metadata": {},
   "source": [
    "と簡単に計算できます。"
   ]
  },
  {
   "cell_type": "markdown",
   "metadata": {},
   "source": [
    "## <a name=\"資本回収係数\">資本回収係数</a>"
   ]
  },
  {
   "cell_type": "markdown",
   "metadata": {},
   "source": [
    "年金原資10万円を10年間で取り崩すとき、毎期いくらずつ使えるか考えます。すでに年金現価係数で計算したものを用いることができます。\n",
    "$$S_0 =(\\frac{(1+r)^T-1}{r(1+r)^T})x$$\n",
    "より\n",
    "$$x=\\frac{r(1+r)^T}{(1+r)^T-1}S_0$$\n",
    "となります。このとき、\n",
    "$$CRF=\\frac{r(1+r)^T}{(1+r)^T-1}$$\n",
    "を資本回収係数(Capital Recovery Factor)と呼びます。<br>\n",
    "利回り1％、10年間の資本回収係数は"
   ]
  },
  {
   "cell_type": "code",
   "execution_count": 14,
   "metadata": {},
   "outputs": [
    {
     "name": "stdout",
     "output_type": "stream",
     "text": [
      "0.10558207655117136\n"
     ]
    }
   ],
   "source": [
    "def crf(r, T):\n",
    "    return (r*(1+r)**T)/((1+r)**T-1)\n",
    "\n",
    "print(crf(0.01, 10))"
   ]
  },
  {
   "cell_type": "markdown",
   "metadata": {},
   "source": [
    "となります。年金原資$S_0$としたとき、$T$期間での毎年の取り崩し額$X$は\n",
    "$$X=CRF \\times S_0$$\n",
    "と書くことができます。<br>\n",
    "資本回収係数を用いると"
   ]
  },
  {
   "cell_type": "code",
   "execution_count": 15,
   "metadata": {},
   "outputs": [
    {
     "name": "stdout",
     "output_type": "stream",
     "text": [
      "10558\n"
     ]
    }
   ],
   "source": [
    "S_0 = 100000\n",
    "x = crf(0.01, 10) * S_0\n",
    "print(int(x))"
   ]
  },
  {
   "cell_type": "markdown",
   "metadata": {},
   "source": [
    "と計算できます。"
   ]
  },
  {
   "cell_type": "markdown",
   "metadata": {},
   "source": [
    "## 係数のまとめ"
   ]
  },
  {
   "cell_type": "markdown",
   "metadata": {},
   "source": [
    "年金に関する係数の関係をまとめます。どれか一つだけ覚えておけば、他のケースにも対応できると思います。"
   ]
  },
  {
   "cell_type": "markdown",
   "metadata": {},
   "source": [
    "<img src=\"pension_factor.png\">"
   ]
  },
  {
   "cell_type": "code",
   "execution_count": 18,
   "metadata": {},
   "outputs": [],
   "source": [
    "class PensionFactor():\n",
    "    def __init__(self, r, t):\n",
    "        self.r = r\n",
    "        self.t = t\n",
    "    \n",
    "    # 終価係数\n",
    "    def spcaf(self):\n",
    "        return (1+self.r)**self.t\n",
    "    \n",
    "    # 現価係数\n",
    "    def sppwf(self):\n",
    "        return 1/spcaf(self.r, self.t)\n",
    "    \n",
    "    # 年金終価係数\n",
    "    def uscaf(self):\n",
    "        return ((1+self.r)**self.t-1)/self.r\n",
    "    \n",
    "    # 減債基金係数\n",
    "    def sff(self):\n",
    "        return 1/uscaf(self.r, self.t)\n",
    "    \n",
    "    # 年金現価係数\n",
    "    def uspwf(self):\n",
    "        return -uscaf(self.r, -self.t)\n",
    "    \n",
    "    # 資本回収係数\n",
    "    def crf(self):\n",
    "        return -1/uscaf(self.r, -self.t)"
   ]
  },
  {
   "cell_type": "code",
   "execution_count": 19,
   "metadata": {},
   "outputs": [
    {
     "name": "stdout",
     "output_type": "stream",
     "text": [
      "終価係数: 1.1046221254112045 \n",
      "現価係数: 0.9052869546929833 \n",
      "年金終価係数: 10.462212541120453 \n",
      "減債基金係数: 0.09558207655117135 \n",
      "年金現価係数: 9.471304530701675 \n",
      "資本回収係数: 0.10558207655117133\n"
     ]
    }
   ],
   "source": [
    "pf = PensionFactor(0.01, 10)\n",
    "print('終価係数:', pf.spcaf(),\n",
    "      '\\n現価係数:', pf.sppwf(),\n",
    "      '\\n年金終価係数:', pf.uscaf(),\n",
    "      '\\n減債基金係数:', pf.sff(),\n",
    "      '\\n年金現価係数:', pf.uspwf(),\n",
    "      '\\n資本回収係数:', pf.crf())"
   ]
  },
  {
   "cell_type": "markdown",
   "metadata": {},
   "source": [
    "## 係数を使う際の注意点"
   ]
  },
  {
   "cell_type": "markdown",
   "metadata": {},
   "source": [
    "係数は簡易的に見積もる場合には便利ですが、以下のような問題点があります。\n",
    "\n",
    "- 毎年の積立額が固定\n",
    "- 利回りが固定\n",
    "- 税金を考慮していない\n",
    "\n",
    "毎年の積立額は自分の意思でコントロールできる変数です。\n",
    "\n",
    "利回りは、利率が確定している場合は係数が使えますが、確定拠出年金のように利回りが運用によって変わる場合には、不確実性があるので、単純な計算では見積もりにくくなります。\n",
    "\n",
    "税金は自身の所得によっても変わる場合もあります。また、税制が変わる可能性もありますが、いきなり変わるものではないので、改正があれば事前に再計算もできます。利回りよりは考慮しやすい気がします。そのうち税金を考慮した積立額計算はやってみたいと思います。"
   ]
  },
  {
   "cell_type": "markdown",
   "metadata": {},
   "source": [
    "## 参考になりそうなもの"
   ]
  },
  {
   "cell_type": "markdown",
   "metadata": {},
   "source": [
    "- ファイナンシャル・プランニング技能検定のテキスト（あまり詳しくないですが）\n",
    "- 年金アクチュアリーのテキスト？（読んだことないですが）"
   ]
  },
  {
   "cell_type": "code",
   "execution_count": null,
   "metadata": {},
   "outputs": [],
   "source": []
  }
 ],
 "metadata": {
  "kernelspec": {
   "display_name": "Python 3",
   "language": "python",
   "name": "python3"
  },
  "language_info": {
   "codemirror_mode": {
    "name": "ipython",
    "version": 3
   },
   "file_extension": ".py",
   "mimetype": "text/x-python",
   "name": "python",
   "nbconvert_exporter": "python",
   "pygments_lexer": "ipython3",
   "version": "3.6.5"
  }
 },
 "nbformat": 4,
 "nbformat_minor": 2
}
